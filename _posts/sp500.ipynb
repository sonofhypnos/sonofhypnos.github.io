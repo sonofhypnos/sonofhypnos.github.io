{
 "cells": [
  {
   "cell_type": "code",
   "execution_count": 129,
   "metadata": {},
   "outputs": [],
   "source": [
    "import numpy as np\n",
    "import pandas as pd\n",
    "import matplotlib.pyplot as plt\n",
    "import seaborn as sns\n",
    "%matplotlib inline\n",
    "\n",
    "df = pd.read_csv(\"^GspC.csv\")\n"
   ]
  },
  {
   "cell_type": "code",
   "execution_count": 130,
   "metadata": {},
   "outputs": [
    {
     "data": {
      "text/html": [
       "<div>\n",
       "<style scoped>\n",
       "    .dataframe tbody tr th:only-of-type {\n",
       "        vertical-align: middle;\n",
       "    }\n",
       "\n",
       "    .dataframe tbody tr th {\n",
       "        vertical-align: top;\n",
       "    }\n",
       "\n",
       "    .dataframe thead th {\n",
       "        text-align: right;\n",
       "    }\n",
       "</style>\n",
       "<table border=\"1\" class=\"dataframe\">\n",
       "  <thead>\n",
       "    <tr style=\"text-align: right;\">\n",
       "      <th></th>\n",
       "      <th>Date</th>\n",
       "      <th>Open</th>\n",
       "      <th>High</th>\n",
       "      <th>Low</th>\n",
       "      <th>Close</th>\n",
       "      <th>Adj Close</th>\n",
       "      <th>Volume</th>\n",
       "    </tr>\n",
       "  </thead>\n",
       "  <tbody>\n",
       "    <tr>\n",
       "      <th>0</th>\n",
       "      <td>1927-12-30</td>\n",
       "      <td>17.660000</td>\n",
       "      <td>17.660000</td>\n",
       "      <td>17.660000</td>\n",
       "      <td>17.660000</td>\n",
       "      <td>17.660000</td>\n",
       "      <td>0</td>\n",
       "    </tr>\n",
       "    <tr>\n",
       "      <th>1</th>\n",
       "      <td>1928-01-03</td>\n",
       "      <td>17.760000</td>\n",
       "      <td>17.760000</td>\n",
       "      <td>17.760000</td>\n",
       "      <td>17.760000</td>\n",
       "      <td>17.760000</td>\n",
       "      <td>0</td>\n",
       "    </tr>\n",
       "    <tr>\n",
       "      <th>2</th>\n",
       "      <td>1928-01-04</td>\n",
       "      <td>17.719999</td>\n",
       "      <td>17.719999</td>\n",
       "      <td>17.719999</td>\n",
       "      <td>17.719999</td>\n",
       "      <td>17.719999</td>\n",
       "      <td>0</td>\n",
       "    </tr>\n",
       "    <tr>\n",
       "      <th>3</th>\n",
       "      <td>1928-01-05</td>\n",
       "      <td>17.549999</td>\n",
       "      <td>17.549999</td>\n",
       "      <td>17.549999</td>\n",
       "      <td>17.549999</td>\n",
       "      <td>17.549999</td>\n",
       "      <td>0</td>\n",
       "    </tr>\n",
       "    <tr>\n",
       "      <th>4</th>\n",
       "      <td>1928-01-06</td>\n",
       "      <td>17.660000</td>\n",
       "      <td>17.660000</td>\n",
       "      <td>17.660000</td>\n",
       "      <td>17.660000</td>\n",
       "      <td>17.660000</td>\n",
       "      <td>0</td>\n",
       "    </tr>\n",
       "  </tbody>\n",
       "</table>\n",
       "</div>"
      ],
      "text/plain": [
       "         Date       Open       High        Low      Close  Adj Close  Volume\n",
       "0  1927-12-30  17.660000  17.660000  17.660000  17.660000  17.660000       0\n",
       "1  1928-01-03  17.760000  17.760000  17.760000  17.760000  17.760000       0\n",
       "2  1928-01-04  17.719999  17.719999  17.719999  17.719999  17.719999       0\n",
       "3  1928-01-05  17.549999  17.549999  17.549999  17.549999  17.549999       0\n",
       "4  1928-01-06  17.660000  17.660000  17.660000  17.660000  17.660000       0"
      ]
     },
     "execution_count": 130,
     "metadata": {},
     "output_type": "execute_result"
    }
   ],
   "source": [
    "df.head()"
   ]
  },
  {
   "cell_type": "code",
   "execution_count": 131,
   "metadata": {},
   "outputs": [
    {
     "data": {
      "text/html": [
       "<div>\n",
       "<style scoped>\n",
       "    .dataframe tbody tr th:only-of-type {\n",
       "        vertical-align: middle;\n",
       "    }\n",
       "\n",
       "    .dataframe tbody tr th {\n",
       "        vertical-align: top;\n",
       "    }\n",
       "\n",
       "    .dataframe thead th {\n",
       "        text-align: right;\n",
       "    }\n",
       "</style>\n",
       "<table border=\"1\" class=\"dataframe\">\n",
       "  <thead>\n",
       "    <tr style=\"text-align: right;\">\n",
       "      <th></th>\n",
       "      <th>Date</th>\n",
       "      <th>Open</th>\n",
       "      <th>High</th>\n",
       "      <th>Low</th>\n",
       "      <th>Close</th>\n",
       "      <th>Adj Close</th>\n",
       "      <th>Volume</th>\n",
       "    </tr>\n",
       "  </thead>\n",
       "  <tbody>\n",
       "    <tr>\n",
       "      <th>23362</th>\n",
       "      <td>2021-01-04</td>\n",
       "      <td>3764.610107</td>\n",
       "      <td>3769.989990</td>\n",
       "      <td>3662.709961</td>\n",
       "      <td>3700.649902</td>\n",
       "      <td>3700.649902</td>\n",
       "      <td>5006680000</td>\n",
       "    </tr>\n",
       "    <tr>\n",
       "      <th>23363</th>\n",
       "      <td>2021-01-05</td>\n",
       "      <td>3698.020020</td>\n",
       "      <td>3737.830078</td>\n",
       "      <td>3695.070068</td>\n",
       "      <td>3726.860107</td>\n",
       "      <td>3726.860107</td>\n",
       "      <td>4582620000</td>\n",
       "    </tr>\n",
       "    <tr>\n",
       "      <th>23364</th>\n",
       "      <td>2021-01-06</td>\n",
       "      <td>3712.199951</td>\n",
       "      <td>3783.040039</td>\n",
       "      <td>3705.340088</td>\n",
       "      <td>3748.139893</td>\n",
       "      <td>3748.139893</td>\n",
       "      <td>6049970000</td>\n",
       "    </tr>\n",
       "    <tr>\n",
       "      <th>23365</th>\n",
       "      <td>2021-01-07</td>\n",
       "      <td>3764.709961</td>\n",
       "      <td>3811.550049</td>\n",
       "      <td>3764.709961</td>\n",
       "      <td>3803.790039</td>\n",
       "      <td>3803.790039</td>\n",
       "      <td>5080870000</td>\n",
       "    </tr>\n",
       "    <tr>\n",
       "      <th>23366</th>\n",
       "      <td>2021-01-08</td>\n",
       "      <td>3815.050049</td>\n",
       "      <td>3826.689941</td>\n",
       "      <td>3783.600098</td>\n",
       "      <td>3824.679932</td>\n",
       "      <td>3824.679932</td>\n",
       "      <td>4764180000</td>\n",
       "    </tr>\n",
       "  </tbody>\n",
       "</table>\n",
       "</div>"
      ],
      "text/plain": [
       "             Date         Open         High          Low        Close  \\\n",
       "23362  2021-01-04  3764.610107  3769.989990  3662.709961  3700.649902   \n",
       "23363  2021-01-05  3698.020020  3737.830078  3695.070068  3726.860107   \n",
       "23364  2021-01-06  3712.199951  3783.040039  3705.340088  3748.139893   \n",
       "23365  2021-01-07  3764.709961  3811.550049  3764.709961  3803.790039   \n",
       "23366  2021-01-08  3815.050049  3826.689941  3783.600098  3824.679932   \n",
       "\n",
       "         Adj Close      Volume  \n",
       "23362  3700.649902  5006680000  \n",
       "23363  3726.860107  4582620000  \n",
       "23364  3748.139893  6049970000  \n",
       "23365  3803.790039  5080870000  \n",
       "23366  3824.679932  4764180000  "
      ]
     },
     "execution_count": 131,
     "metadata": {},
     "output_type": "execute_result"
    }
   ],
   "source": [
    "df.tail()"
   ]
  },
  {
   "cell_type": "code",
   "execution_count": 132,
   "metadata": {},
   "outputs": [],
   "source": [
    "sp = df.Close"
   ]
  },
  {
   "cell_type": "code",
   "execution_count": 133,
   "metadata": {},
   "outputs": [
    {
     "data": {
      "text/plain": [
       "0    17.660000\n",
       "1    17.760000\n",
       "2    17.719999\n",
       "3    17.549999\n",
       "4    17.660000\n",
       "Name: Close, dtype: float64"
      ]
     },
     "execution_count": 133,
     "metadata": {},
     "output_type": "execute_result"
    }
   ],
   "source": [
    "sp.head()"
   ]
  },
  {
   "cell_type": "markdown",
   "metadata": {},
   "source": [
    "Now we also use the index collumn from our initial dataframe."
   ]
  },
  {
   "cell_type": "code",
   "execution_count": 147,
   "metadata": {},
   "outputs": [],
   "source": [
    "sp.index = pd.to_datetime(df.Date)"
   ]
  },
  {
   "cell_type": "code",
   "execution_count": 135,
   "metadata": {},
   "outputs": [
    {
     "data": {
      "text/plain": [
       "Date\n",
       "1927-12-30    17.660000\n",
       "1928-01-03    17.760000\n",
       "1928-01-04    17.719999\n",
       "1928-01-05    17.549999\n",
       "1928-01-06    17.660000\n",
       "Name: Close, dtype: float64"
      ]
     },
     "execution_count": 135,
     "metadata": {},
     "output_type": "execute_result"
    }
   ],
   "source": [
    "sp.head()"
   ]
  },
  {
   "cell_type": "code",
   "execution_count": 136,
   "metadata": {},
   "outputs": [],
   "source": [
    "def shift_n_absolute(ts, n):\n",
    "    ts_shift = []\n",
    "    for i in range(1,n+1):\n",
    "        ts_shift.append((ts - ts.shift(periods=i))/ts)\n",
    "    return ts_shift\n",
    "\n",
    "def shift_n_absolute(ts, n):\n",
    "    ts_shift = []\n",
    "    for i in range(1,n+1):\n",
    "        ts_shift.append((ts - ts.shift(periods=i)))\n",
    "    return ts_shift"
   ]
  },
  {
   "cell_type": "code",
   "execution_count": 137,
   "metadata": {},
   "outputs": [
    {
     "data": {
      "text/plain": [
       "<AxesSubplot:xlabel='Date'>"
      ]
     },
     "execution_count": 137,
     "metadata": {},
     "output_type": "execute_result"
    },
    {
     "data": {
      "image/png": "[encoded data removed]",
      "text/plain": [
       "<Figure size 432x288 with 1 Axes>"
      ]
     },
     "metadata": {
      "needs_background": "light"
     },
     "output_type": "display_data"
    }
   ],
   "source": [
    "sns.lineplot(x=sp.index[-500:], y = sp.values[-500:])"
   ]
  },
  {
   "cell_type": "code",
   "execution_count": 138,
   "metadata": {},
   "outputs": [],
   "source": [
    "n = 15 # the number of days that the S&P has to stay within the boundary\n",
    "boundary = 3400\n",
    "#sp = sp[:-1] #remove close"
   ]
  },
  {
   "cell_type": "code",
   "execution_count": 139,
   "metadata": {},
   "outputs": [],
   "source": [
    "sp_shift = shift_n_absolute(sp, n)\n",
    "shift_index = [str(x) for x in range(1,n+1)]\n",
    "sp_shift = pd.DataFrame.from_dict(dict(zip(shift_index,sp_shift)))\n",
    "sp_shift = sp_shift[n:]"
   ]
  },
  {
   "cell_type": "code",
   "execution_count": 140,
   "metadata": {},
   "outputs": [
    {
     "data": {
      "text/html": [
       "<div>\n",
       "<style scoped>\n",
       "    .dataframe tbody tr th:only-of-type {\n",
       "        vertical-align: middle;\n",
       "    }\n",
       "\n",
       "    .dataframe tbody tr th {\n",
       "        vertical-align: top;\n",
       "    }\n",
       "\n",
       "    .dataframe thead th {\n",
       "        text-align: right;\n",
       "    }\n",
       "</style>\n",
       "<table border=\"1\" class=\"dataframe\">\n",
       "  <thead>\n",
       "    <tr style=\"text-align: right;\">\n",
       "      <th></th>\n",
       "      <th>1</th>\n",
       "      <th>2</th>\n",
       "      <th>3</th>\n",
       "      <th>4</th>\n",
       "      <th>5</th>\n",
       "      <th>6</th>\n",
       "      <th>7</th>\n",
       "      <th>8</th>\n",
       "      <th>9</th>\n",
       "      <th>10</th>\n",
       "      <th>11</th>\n",
       "      <th>12</th>\n",
       "      <th>13</th>\n",
       "      <th>14</th>\n",
       "      <th>15</th>\n",
       "    </tr>\n",
       "    <tr>\n",
       "      <th>Date</th>\n",
       "      <th></th>\n",
       "      <th></th>\n",
       "      <th></th>\n",
       "      <th></th>\n",
       "      <th></th>\n",
       "      <th></th>\n",
       "      <th></th>\n",
       "      <th></th>\n",
       "      <th></th>\n",
       "      <th></th>\n",
       "      <th></th>\n",
       "      <th></th>\n",
       "      <th></th>\n",
       "      <th></th>\n",
       "      <th></th>\n",
       "    </tr>\n",
       "  </thead>\n",
       "  <tbody>\n",
       "    <tr>\n",
       "      <th>1928-01-23</th>\n",
       "      <td>0.009070</td>\n",
       "      <td>0.014739</td>\n",
       "      <td>0.021542</td>\n",
       "      <td>0.019274</td>\n",
       "      <td>0.019841</td>\n",
       "      <td>0.003401</td>\n",
       "      <td>0.009637</td>\n",
       "      <td>0.016440</td>\n",
       "      <td>0.015306</td>\n",
       "      <td>0.007936</td>\n",
       "      <td>-0.001134</td>\n",
       "      <td>0.005102</td>\n",
       "      <td>-0.004535</td>\n",
       "      <td>-0.006803</td>\n",
       "      <td>-0.001134</td>\n",
       "    </tr>\n",
       "    <tr>\n",
       "      <th>1928-01-24</th>\n",
       "      <td>0.003953</td>\n",
       "      <td>0.012987</td>\n",
       "      <td>0.018634</td>\n",
       "      <td>0.025409</td>\n",
       "      <td>0.023151</td>\n",
       "      <td>0.023715</td>\n",
       "      <td>0.007340</td>\n",
       "      <td>0.013552</td>\n",
       "      <td>0.020327</td>\n",
       "      <td>0.019198</td>\n",
       "      <td>0.011858</td>\n",
       "      <td>0.002823</td>\n",
       "      <td>0.009034</td>\n",
       "      <td>-0.000565</td>\n",
       "      <td>-0.002823</td>\n",
       "    </tr>\n",
       "    <tr>\n",
       "      <th>1928-01-25</th>\n",
       "      <td>-0.010845</td>\n",
       "      <td>-0.006849</td>\n",
       "      <td>0.002283</td>\n",
       "      <td>0.007991</td>\n",
       "      <td>0.014840</td>\n",
       "      <td>0.012557</td>\n",
       "      <td>0.013128</td>\n",
       "      <td>-0.003425</td>\n",
       "      <td>0.002854</td>\n",
       "      <td>0.009703</td>\n",
       "      <td>0.008562</td>\n",
       "      <td>0.001142</td>\n",
       "      <td>-0.007991</td>\n",
       "      <td>-0.001712</td>\n",
       "      <td>-0.011415</td>\n",
       "    </tr>\n",
       "    <tr>\n",
       "      <th>1928-01-26</th>\n",
       "      <td>0.006239</td>\n",
       "      <td>-0.004538</td>\n",
       "      <td>-0.000567</td>\n",
       "      <td>0.008508</td>\n",
       "      <td>0.014180</td>\n",
       "      <td>0.020987</td>\n",
       "      <td>0.018718</td>\n",
       "      <td>0.019285</td>\n",
       "      <td>0.002836</td>\n",
       "      <td>0.009075</td>\n",
       "      <td>0.015882</td>\n",
       "      <td>0.014747</td>\n",
       "      <td>0.007374</td>\n",
       "      <td>-0.001702</td>\n",
       "      <td>0.004538</td>\n",
       "    </tr>\n",
       "    <tr>\n",
       "      <th>1928-01-27</th>\n",
       "      <td>0.003392</td>\n",
       "      <td>0.009610</td>\n",
       "      <td>-0.001130</td>\n",
       "      <td>0.002827</td>\n",
       "      <td>0.011871</td>\n",
       "      <td>0.017524</td>\n",
       "      <td>0.024308</td>\n",
       "      <td>0.022046</td>\n",
       "      <td>0.022612</td>\n",
       "      <td>0.006218</td>\n",
       "      <td>0.012437</td>\n",
       "      <td>0.019220</td>\n",
       "      <td>0.018089</td>\n",
       "      <td>0.010741</td>\n",
       "      <td>0.001696</td>\n",
       "    </tr>\n",
       "    <tr>\n",
       "      <th>...</th>\n",
       "      <td>...</td>\n",
       "      <td>...</td>\n",
       "      <td>...</td>\n",
       "      <td>...</td>\n",
       "      <td>...</td>\n",
       "      <td>...</td>\n",
       "      <td>...</td>\n",
       "      <td>...</td>\n",
       "      <td>...</td>\n",
       "      <td>...</td>\n",
       "      <td>...</td>\n",
       "      <td>...</td>\n",
       "      <td>...</td>\n",
       "      <td>...</td>\n",
       "      <td>...</td>\n",
       "    </tr>\n",
       "    <tr>\n",
       "      <th>2021-01-04</th>\n",
       "      <td>-0.014976</td>\n",
       "      <td>-0.008482</td>\n",
       "      <td>-0.007131</td>\n",
       "      <td>-0.009379</td>\n",
       "      <td>-0.000651</td>\n",
       "      <td>0.002875</td>\n",
       "      <td>0.003618</td>\n",
       "      <td>0.001548</td>\n",
       "      <td>-0.002367</td>\n",
       "      <td>-0.005899</td>\n",
       "      <td>-0.000141</td>\n",
       "      <td>0.001629</td>\n",
       "      <td>0.014365</td>\n",
       "      <td>0.010050</td>\n",
       "      <td>0.008796</td>\n",
       "    </tr>\n",
       "    <tr>\n",
       "      <th>2021-01-05</th>\n",
       "      <td>0.007033</td>\n",
       "      <td>-0.007838</td>\n",
       "      <td>-0.001390</td>\n",
       "      <td>-0.000048</td>\n",
       "      <td>-0.002281</td>\n",
       "      <td>0.006386</td>\n",
       "      <td>0.009888</td>\n",
       "      <td>0.010626</td>\n",
       "      <td>0.008570</td>\n",
       "      <td>0.004682</td>\n",
       "      <td>0.001175</td>\n",
       "      <td>0.006893</td>\n",
       "      <td>0.008651</td>\n",
       "      <td>0.021297</td>\n",
       "      <td>0.017012</td>\n",
       "    </tr>\n",
       "    <tr>\n",
       "      <th>2021-01-06</th>\n",
       "      <td>0.005677</td>\n",
       "      <td>0.012670</td>\n",
       "      <td>-0.002116</td>\n",
       "      <td>0.004295</td>\n",
       "      <td>0.005629</td>\n",
       "      <td>0.003410</td>\n",
       "      <td>0.012027</td>\n",
       "      <td>0.015509</td>\n",
       "      <td>0.016243</td>\n",
       "      <td>0.014199</td>\n",
       "      <td>0.010333</td>\n",
       "      <td>0.006846</td>\n",
       "      <td>0.012532</td>\n",
       "      <td>0.014279</td>\n",
       "      <td>0.026853</td>\n",
       "    </tr>\n",
       "    <tr>\n",
       "      <th>2021-01-07</th>\n",
       "      <td>0.014630</td>\n",
       "      <td>0.020225</td>\n",
       "      <td>0.027115</td>\n",
       "      <td>0.012545</td>\n",
       "      <td>0.018863</td>\n",
       "      <td>0.020177</td>\n",
       "      <td>0.017990</td>\n",
       "      <td>0.026481</td>\n",
       "      <td>0.029912</td>\n",
       "      <td>0.030635</td>\n",
       "      <td>0.028621</td>\n",
       "      <td>0.024812</td>\n",
       "      <td>0.021376</td>\n",
       "      <td>0.026978</td>\n",
       "      <td>0.028700</td>\n",
       "    </tr>\n",
       "    <tr>\n",
       "      <th>2021-01-08</th>\n",
       "      <td>0.005462</td>\n",
       "      <td>0.020012</td>\n",
       "      <td>0.025576</td>\n",
       "      <td>0.032429</td>\n",
       "      <td>0.017939</td>\n",
       "      <td>0.024222</td>\n",
       "      <td>0.025529</td>\n",
       "      <td>0.023354</td>\n",
       "      <td>0.031799</td>\n",
       "      <td>0.035211</td>\n",
       "      <td>0.035930</td>\n",
       "      <td>0.033927</td>\n",
       "      <td>0.030138</td>\n",
       "      <td>0.026721</td>\n",
       "      <td>0.032293</td>\n",
       "    </tr>\n",
       "  </tbody>\n",
       "</table>\n",
       "<p>23352 rows × 15 columns</p>\n",
       "</div>"
      ],
      "text/plain": [
       "                   1         2         3         4         5         6  \\\n",
       "Date                                                                     \n",
       "1928-01-23  0.009070  0.014739  0.021542  0.019274  0.019841  0.003401   \n",
       "1928-01-24  0.003953  0.012987  0.018634  0.025409  0.023151  0.023715   \n",
       "1928-01-25 -0.010845 -0.006849  0.002283  0.007991  0.014840  0.012557   \n",
       "1928-01-26  0.006239 -0.004538 -0.000567  0.008508  0.014180  0.020987   \n",
       "1928-01-27  0.003392  0.009610 -0.001130  0.002827  0.011871  0.017524   \n",
       "...              ...       ...       ...       ...       ...       ...   \n",
       "2021-01-04 -0.014976 -0.008482 -0.007131 -0.009379 -0.000651  0.002875   \n",
       "2021-01-05  0.007033 -0.007838 -0.001390 -0.000048 -0.002281  0.006386   \n",
       "2021-01-06  0.005677  0.012670 -0.002116  0.004295  0.005629  0.003410   \n",
       "2021-01-07  0.014630  0.020225  0.027115  0.012545  0.018863  0.020177   \n",
       "2021-01-08  0.005462  0.020012  0.025576  0.032429  0.017939  0.024222   \n",
       "\n",
       "                   7         8         9        10        11        12  \\\n",
       "Date                                                                     \n",
       "1928-01-23  0.009637  0.016440  0.015306  0.007936 -0.001134  0.005102   \n",
       "1928-01-24  0.007340  0.013552  0.020327  0.019198  0.011858  0.002823   \n",
       "1928-01-25  0.013128 -0.003425  0.002854  0.009703  0.008562  0.001142   \n",
       "1928-01-26  0.018718  0.019285  0.002836  0.009075  0.015882  0.014747   \n",
       "1928-01-27  0.024308  0.022046  0.022612  0.006218  0.012437  0.019220   \n",
       "...              ...       ...       ...       ...       ...       ...   \n",
       "2021-01-04  0.003618  0.001548 -0.002367 -0.005899 -0.000141  0.001629   \n",
       "2021-01-05  0.009888  0.010626  0.008570  0.004682  0.001175  0.006893   \n",
       "2021-01-06  0.012027  0.015509  0.016243  0.014199  0.010333  0.006846   \n",
       "2021-01-07  0.017990  0.026481  0.029912  0.030635  0.028621  0.024812   \n",
       "2021-01-08  0.025529  0.023354  0.031799  0.035211  0.035930  0.033927   \n",
       "\n",
       "                  13        14        15  \n",
       "Date                                      \n",
       "1928-01-23 -0.004535 -0.006803 -0.001134  \n",
       "1928-01-24  0.009034 -0.000565 -0.002823  \n",
       "1928-01-25 -0.007991 -0.001712 -0.011415  \n",
       "1928-01-26  0.007374 -0.001702  0.004538  \n",
       "1928-01-27  0.018089  0.010741  0.001696  \n",
       "...              ...       ...       ...  \n",
       "2021-01-04  0.014365  0.010050  0.008796  \n",
       "2021-01-05  0.008651  0.021297  0.017012  \n",
       "2021-01-06  0.012532  0.014279  0.026853  \n",
       "2021-01-07  0.021376  0.026978  0.028700  \n",
       "2021-01-08  0.030138  0.026721  0.032293  \n",
       "\n",
       "[23352 rows x 15 columns]"
      ]
     },
     "execution_count": 140,
     "metadata": {},
     "output_type": "execute_result"
    }
   ],
   "source": [
    "sp_shift"
   ]
  },
  {
   "cell_type": "code",
   "execution_count": 141,
   "metadata": {},
   "outputs": [
    {
     "data": {
      "text/plain": [
       "<AxesSubplot:xlabel='Date'>"
      ]
     },
     "execution_count": 141,
     "metadata": {},
     "output_type": "execute_result"
    },
    {
     "data": {
      "image/png": "[encoded data removed]",
      "text/plain": [
       "<Figure size 432x288 with 1 Axes>"
      ]
     },
     "metadata": {
      "needs_background": "light"
     },
     "output_type": "display_data"
    }
   ],
   "source": [
    "sp_shift[\"15\"].rolling(window=500).mean().plot()"
   ]
  },
  {
   "cell_type": "code",
   "execution_count": 142,
   "metadata": {},
   "outputs": [
    {
     "data": {
      "text/plain": [
       "Date\n",
       "2021-01-04    3700.649902\n",
       "2021-01-05    3726.860107\n",
       "2021-01-06    3748.139893\n",
       "2021-01-07    3803.790039\n",
       "2021-01-08    3824.679932\n",
       "Name: Close, dtype: float64"
      ]
     },
     "execution_count": 142,
     "metadata": {},
     "output_type": "execute_result"
    }
   ],
   "source": [
    "sp[-5:]"
   ]
  },
  {
   "cell_type": "code",
   "execution_count": 143,
   "metadata": {},
   "outputs": [],
   "source": [
    "sp_pre_forecast = float(sp[-1:]) + sp_shift * float(sp[-1:])"
   ]
  },
  {
   "cell_type": "code",
   "execution_count": 144,
   "metadata": {},
   "outputs": [],
   "source": [
    "# \"windows\" is the number of days we look back in time how values\n",
    "# were excedet in the past\n",
    "\n",
    "#windows = 350\n",
    "sp_forecast = sp_pre_forecast"
   ]
  },
  {
   "cell_type": "code",
   "execution_count": 145,
   "metadata": {},
   "outputs": [
    {
     "data": {
      "text/plain": [
       "3824.679932"
      ]
     },
     "execution_count": 145,
     "metadata": {},
     "output_type": "execute_result"
    }
   ],
   "source": [
    "float(sp[-1:])"
   ]
  },
  {
   "cell_type": "code",
   "execution_count": 146,
   "metadata": {},
   "outputs": [
    {
     "name": "stdout",
     "output_type": "stream",
     "text": [
      "probability of going below boundary\n",
      "0.027706406303528604\n"
     ]
    },
    {
     "data": {
      "image/png": "[encoded data removed]",
      "text/plain": [
       "<Figure size 432x288 with 1 Axes>"
      ]
     },
     "metadata": {
      "needs_background": "light"
     },
     "output_type": "display_data"
    }
   ],
   "source": [
    "#computing the probability of exceeding \"boundry\"\n",
    "\n",
    "win = []\n",
    "if float(sp[-1:]) < boundary:\n",
    "    print(\"probability of going above boundary\")\n",
    "    for i in range(len(sp_forecast)):\n",
    "        win.append(any(sp_forecast.iloc[i] > boundary)) \n",
    "else:\n",
    "    print(\"probability of going below boundary\")\n",
    "    for i in range(len(sp_forecast)):\n",
    "        win.append(any(sp_forecast.iloc[i] < boundary))\n",
    "win = pd.Series(win)\n",
    "print(win.mean())\n",
    "win.rolling(window=30).mean().plot()\n",
    "axes = plt.gca()\n",
    "axes.set_ylim([0,1])\n",
    "plt.show()"
   ]
  },
  {
   "cell_type": "code",
   "execution_count": null,
   "metadata": {},
   "outputs": [],
   "source": []
  }
 ],
 "metadata": {
  "kernelspec": {
   "display_name": "Python 3",
   "language": "python",
   "name": "python3"
  },
  "language_info": {
   "codemirror_mode": {
    "name": "ipython",
    "version": 3
   },
   "file_extension": ".py",
   "mimetype": "text/x-python",
   "name": "python",
   "nbconvert_exporter": "python",
   "pygments_lexer": "ipython3",
   "version": "3.8.5"
  }
 },
 "nbformat": 4,
 "nbformat_minor": 4
}
